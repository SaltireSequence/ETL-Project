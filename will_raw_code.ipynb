{
 "cells": [
  {
   "cell_type": "code",
   "execution_count": null,
   "metadata": {},
   "outputs": [],
   "source": [
    "import csv\n",
    "import pandas as pd\n",
    "import geopy\n",
    "from arcgis.geocoding import reverse_geocode\n",
    "from arcgis.geometry import Geometry\n",
    "from arcgis.gis import GIS"
   ]
  },
  {
   "cell_type": "code",
   "execution_count": null,
   "metadata": {},
   "outputs": [],
   "source": [
    "restaurant_df = pd.read_csv('raw.csv')\n",
    "restaurant_df = pd.DataFrame(restaurant_df)"
   ]
  },
  {
   "cell_type": "code",
   "execution_count": null,
   "metadata": {},
   "outputs": [],
   "source": [
    "restaurant_df.head()"
   ]
  },
  {
   "cell_type": "code",
   "execution_count": null,
   "metadata": {},
   "outputs": [],
   "source": [
    "shape = restaurant_df.shape\n",
    "print (f'The dataframe shape is: {shape}')"
   ]
  },
  {
   "cell_type": "code",
   "execution_count": null,
   "metadata": {},
   "outputs": [],
   "source": [
    "cols = ['state', 'latitude', 'longitude', 'tel', 'price', 'rating']\n",
    "for col in cols:\n",
    "    restaurant_df[col] = restaurant_df[col].str.split(': ', expand=True)[1].str.replace(\"'\", '')\n",
    "restaurant_df.head()"
   ]
  },
  {
   "cell_type": "code",
   "execution_count": null,
   "metadata": {},
   "outputs": [],
   "source": [
    "restaurant_df = restaurant_df.drop(['website', 'country'], axis=1"
   ]
  },
  {
   "cell_type": "code",
   "execution_count": null,
   "metadata": {},
   "outputs": [],
   "source": [
    "coordinates_df = restaurant_df[['latitude', 'longitude']].copy()"
   ]
  },
  {
   "cell_type": "code",
   "execution_count": null,
   "metadata": {},
   "outputs": [],
   "source": [
    "coordinates_df.head()"
   ]
  },
  {
   "cell_type": "code",
   "execution_count": null,
   "metadata": {},
   "outputs": [],
   "source": [
    "gis = GIS(\"http://www.arcgis.com\", \"wtcforsyth\", \"!oV.wnnVpeReETN3UykYsggaMhnpzq1\")\n",
    "\n",
    "def get_zip(coordinates_df, lon_field, lat_field):\n",
    "    location = reverse_geocode((Geometry({\"x\":float(coordinates_df[lon_field]), \"y\":float(coordinates_df[lat_field]), \"spatialReference\":{\"wkid\": 4326}})))\n",
    "    return location['address']['Postal']\n",
    "\n",
    "zipcodes = coordinates_df.apply(get_zip, axis=1, lat_field='latitude', lon_field='longitude')"
   ]
  },
  {
   "cell_type": "code",
   "execution_count": null,
   "metadata": {},
   "outputs": [],
   "source": [
    "zipcodes.head()"
   ]
  },
  {
   "cell_type": "code",
   "execution_count": null,
   "metadata": {},
   "outputs": [],
   "source": [
    "zipcodes_df = pd.DataFrame(zipcodes, columns=['zipcode'])\n",
    "zipcodes_df"
   ]
  },
  {
   "cell_type": "code",
   "execution_count": null,
   "metadata": {},
   "outputs": [],
   "source": [
    "restaurant_df = restaurant_df.merge(zipcodes_df.zipcode, left_index=True, right_index=True)\n",
    "restaurant_df.head()"
   ]
  },
  {
   "cell_type": "code",
   "execution_count": null,
   "metadata": {},
   "outputs": [],
   "source": [
    "column_names = ['restaurant', 'address', 'city', 'state', 'zipcode', 'latitude', 'longitude', 'tel', 'price', 'rating']\n",
    "restaurant_df = restaurant_df.reindex(columns=column_names)"
   ]
  },
  {
   "cell_type": "code",
   "execution_count": null,
   "metadata": {},
   "outputs": [],
   "source": [
    "restaurant_df.head()"
   ]
  },
  {
   "cell_type": "code",
   "execution_count": null,
   "metadata": {},
   "outputs": [],
   "source": [
    "restaurant_df.to_json('will_data.json')"
   ]
  }
 ],
 "metadata": {
  "kernelspec": {
   "display_name": "Python 3",
   "language": "python",
   "name": "python3"
  },
  "language_info": {
   "codemirror_mode": {
    "name": "ipython",
    "version": 3
   },
   "file_extension": ".py",
   "mimetype": "text/x-python",
   "name": "python",
   "nbconvert_exporter": "python",
   "pygments_lexer": "ipython3",
   "version": "3.7.7"
  }
 },
 "nbformat": 4,
 "nbformat_minor": 4
}
