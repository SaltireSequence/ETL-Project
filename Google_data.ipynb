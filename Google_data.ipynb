{
 "cells": [
  {
   "cell_type": "code",
   "execution_count": 42,
   "metadata": {},
   "outputs": [],
   "source": [
    "import pandas as pd\n",
    "import pgeocode\n",
    "from config import gkey\n",
    "import requests\n",
    "import json\n",
    "import pymongo\n",
    "import numpy as np"
   ]
  },
  {
   "cell_type": "code",
   "execution_count": 43,
   "metadata": {},
   "outputs": [],
   "source": [
    "zips_df=pd.read_csv('sf_zips.csv')"
   ]
  },
  {
   "cell_type": "code",
   "execution_count": 44,
   "metadata": {},
   "outputs": [],
   "source": [
    "zips_df[\"Latitude\"] = \"\"\n",
    "zips_df[\"Longitude\"] = \"\""
   ]
  },
  {
   "cell_type": "code",
   "execution_count": 45,
   "metadata": {},
   "outputs": [],
   "source": [
    "tool = pgeocode.Nominatim('US')"
   ]
  },
  {
   "cell_type": "code",
   "execution_count": 46,
   "metadata": {},
   "outputs": [],
   "source": [
    "tool_table=tool.query_postal_code(95822)"
   ]
  },
  {
   "cell_type": "code",
   "execution_count": 47,
   "metadata": {},
   "outputs": [
    {
     "data": {
      "text/plain": [
       "38.5091"
      ]
     },
     "execution_count": 47,
     "metadata": {},
     "output_type": "execute_result"
    }
   ],
   "source": [
    "tool_table[\"latitude\"]"
   ]
  },
  {
   "cell_type": "code",
   "execution_count": 48,
   "metadata": {},
   "outputs": [],
   "source": [
    "for index, row in zips_df.iterrows():\n",
    "    zipcode = row['ZIPCode']\n",
    "    tool_table=tool.query_postal_code(zipcode)\n",
    "    lat=tool_table[\"latitude\"]\n",
    "    long=tool_table[\"longitude\"]\n",
    "    zips_df.loc[index, 'Latitude']=lat\n",
    "    zips_df.loc[index, 'Longitude']=long\n",
    "    "
   ]
  },
  {
   "cell_type": "code",
   "execution_count": 49,
   "metadata": {},
   "outputs": [],
   "source": [
    "conn = 'mongodb://localhost:27017'\n",
    "client = pymongo.MongoClient(conn)\n",
    "\n",
    "# Define the 'classDB' database in Mongo\n",
    "db = client.locations_mdb"
   ]
  },
  {
   "cell_type": "code",
   "execution_count": 50,
   "metadata": {},
   "outputs": [],
   "source": [
    "api_url = \"https://maps.googleapis.com/maps/api/place/nearbysearch/json\"\n",
    "\n",
    "for index, row in zips_df.iterrows():\n",
    "    target_coordinates = f\"{zips_df.loc[index, 'Latitude']},{zips_df.loc[index, 'Longitude']}\" \n",
    "    target_radius = 50000\n",
    "    target_type = \"lodging\"\n",
    "\n",
    "# set up a parameters dictionary\n",
    "    params = {\n",
    "        \"location\": target_coordinates,\n",
    "        \"radius\": target_radius,\n",
    "        \"type\": target_type,\n",
    "        \"key\": gkey}\n",
    "\n",
    "# run a request using our params dictionary\n",
    "    response = requests.get(api_url, params=params).json()\n",
    "    \n",
    "    \n",
    "    db.locations.insert_one(\n",
    "        {\n",
    "            'zip_code': row['ZIPCode'],\n",
    "            'type': row['Type'],\n",
    "            'county': row['County'],\n",
    "            'population': row['Population'],\n",
    "            'area_codes': row['Area Code(s)'],\n",
    "            'latitude': row['Latitude'],\n",
    "            'longitude': row['Longitude'],\n",
    "            'hotels': response[\"results\"]\n",
    "        }\n",
    "    )"
   ]
  },
  {
   "cell_type": "code",
   "execution_count": 51,
   "metadata": {},
   "outputs": [
    {
     "name": "stdout",
     "output_type": "stream",
     "text": [
      "1\n",
      "1\n"
     ]
    }
   ],
   "source": [
    "#print(db.locations.find({\"rating\":3})\n",
    "#print(db.locations.find_one())\n",
    "for x in db.locations.find({\"zip_code\":94102}):\n",
    "    print(1)"
   ]
  },
  {
   "cell_type": "code",
   "execution_count": 52,
   "metadata": {},
   "outputs": [],
   "source": [
    "#import json\n",
    "#from pymongo import MongoClient\n",
    "#collection_locations = db['locations']\n",
    "\n",
    "#with open('currencies.json') as f:\n",
    "#    file_data = json.load(f)\n",
    "\n",
    "#locations.insert_one(file_data)\n",
    "\n",
    "with open('data.txt', 'w') as outfile:\n",
    "    json.dump(response[\"results\"], outfile)"
   ]
  },
  {
   "cell_type": "code",
   "execution_count": 53,
   "metadata": {},
   "outputs": [],
   "source": [
    "#for location in db.locations.find({\"hotels.rating\":4.1}):\n",
    "#    for hotel in location[\"hotels\"]:\n",
    "#        if hotel[\"rating\"] == 4.1:\n",
    "#            print(json.dumps(hotel, sort_keys=True, indent=2))\n",
    "            "
   ]
  },
  {
   "cell_type": "code",
   "execution_count": 54,
   "metadata": {},
   "outputs": [],
   "source": [
    "with open('data.txt', 'w') as outfile:\n",
    "    json.dump(response[\"results\"], outfile)"
   ]
  },
  {
   "cell_type": "code",
   "execution_count": 58,
   "metadata": {},
   "outputs": [],
   "source": [
    "collection_boba = db['boba']\n",
    "with open (\"Heesung_resources/boba_pika.json\") as f:\n",
    "    file_data = json.load(f)\n",
    "    for record in file_data:\n",
    "        collection_boba.insert_one(record)"
   ]
  },
  {
   "cell_type": "code",
   "execution_count": 61,
   "metadata": {},
   "outputs": [],
   "source": [
    "df = pd.read_csv (r'Cait_resources/Resources/SF_Park_Scores.csv')\n",
    "df.to_json ('sf_parks.json')"
   ]
  },
  {
   "cell_type": "code",
   "execution_count": null,
   "metadata": {},
   "outputs": [],
   "source": [
    "collection_parks = db['parks']\n",
    "with open (\"Cait_resources/boba_pika.json\") as f:\n",
    "    file_data = json.load(f)\n",
    "    for record in file_data:\n",
    "        collection_boba.insert_one(record)"
   ]
  },
  {
   "cell_type": "code",
   "execution_count": 56,
   "metadata": {},
   "outputs": [],
   "source": [
    "collection_restaurants = db['restaurants']"
   ]
  },
  {
   "cell_type": "code",
   "execution_count": 57,
   "metadata": {},
   "outputs": [
    {
     "ename": "SyntaxError",
     "evalue": "unexpected EOF while parsing (<ipython-input-57-c04eba66293d>, line 11)",
     "output_type": "error",
     "traceback": [
      "\u001b[1;36m  File \u001b[1;32m\"<ipython-input-57-c04eba66293d>\"\u001b[1;36m, line \u001b[1;32m11\u001b[0m\n\u001b[1;33m    client.close(\u001b[0m\n\u001b[1;37m                 ^\u001b[0m\n\u001b[1;31mSyntaxError\u001b[0m\u001b[1;31m:\u001b[0m unexpected EOF while parsing\n"
     ]
    }
   ],
   "source": [
    "with open('currencies.json') as f:\n",
    "    file_data = json.load(f)\n",
    "\n",
    "# if pymongo < 3.0, use insert()\n",
    "collection_currency.insert(file_data)\n",
    "# if pymongo >= 3.0 use insert_one() for inserting one document\n",
    "collection_currency.insert_one(file_data)\n",
    "# if pymongo >= 3.0 use insert_many() for inserting many documents\n",
    "collection_currency.insert_many(file_data)\n",
    "\n",
    "client.close("
   ]
  },
  {
   "cell_type": "code",
   "execution_count": null,
   "metadata": {},
   "outputs": [],
   "source": []
  },
  {
   "cell_type": "code",
   "execution_count": null,
   "metadata": {},
   "outputs": [],
   "source": []
  }
 ],
 "metadata": {
  "kernelspec": {
   "display_name": "Python 3.6.10 64-bit ('PythonDataViz': conda)",
   "language": "python",
   "name": "python361064bitpythondatavizcondaed56fc30986a464784f8a472c80ebaf6"
  },
  "language_info": {
   "codemirror_mode": {
    "name": "ipython",
    "version": 3
   },
   "file_extension": ".py",
   "mimetype": "text/x-python",
   "name": "python",
   "nbconvert_exporter": "python",
   "pygments_lexer": "ipython3",
   "version": "3.6.10"
  }
 },
 "nbformat": 4,
 "nbformat_minor": 4
}
