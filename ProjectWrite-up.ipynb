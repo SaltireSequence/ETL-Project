{
 "cells": [
  {
   "cell_type": "markdown",
   "metadata": {},
   "source": [
    "# San Francisco Datasets (ETL-Project)"
   ]
  },
  {
   "cell_type": "markdown",
   "metadata": {},
   "source": [
    "---"
   ]
  },
  {
   "cell_type": "markdown",
   "metadata": {},
   "source": [
    "### **Objective:**\n",
    "#### The purpose of this project is to collaborate as a team to:\n",
    "* **Extract** - 4 different datasets (in at least 2 formats)\n",
    "* **Transform** - each dataset, based on their current state\n",
    "* **Load** - these non-related datasets as individual datasets as a collection into a NoSQL database"
   ]
  },
  {
   "cell_type": "markdown",
   "metadata": {},
   "source": [
    "---"
   ]
  },
  {
   "cell_type": "markdown",
   "metadata": {},
   "source": [
    "### **Resources:**"
   ]
  },
  {
   "cell_type": "markdown",
   "metadata": {},
   "source": [
    "#### This repo contains the collaborative work for Team 1. In this repo, you will find the following: ####\n",
    "#### **Code Folder** ([link here](https://github.com/SaltireSequence/ETL-Project/tree/master/Code)) ####"
   ]
  },
  {
   "cell_type": "code",
   "execution_count": 1,
   "metadata": {},
   "outputs": [
    {
     "data": {
      "text/html": [
       "<style>\n",
       "table {float:left}\n",
       "</style>\n"
      ],
      "text/plain": [
       "<IPython.core.display.HTML object>"
      ]
     },
     "metadata": {},
     "output_type": "display_data"
    }
   ],
   "source": [
    "%%html\n",
    "<style>\n",
    "table {float:left}\n",
    "</style>"
   ]
  },
  {
   "cell_type": "markdown",
   "metadata": {},
   "source": [
    "Containing each team member's Jupyter Notebook, that contains their respective code, used for the extraction and transformation of each team member's dataset:\n",
    "\n",
    "| Team Member | Filename | Description |\n",
    "| :- | :- | :- |\n",
    "| William | `william_notebook.ipynb` | Extrating a CSV file and saving as a Pandas DataFrame, containing stats for 150<br> San Francisco restaurants, before undetaking transformation (inc. `str.replace`<br> and code to convert longitute and latitude to zipcodes) and finally converting into a<br>JSON file. |\n",
    "| Caitlin | `SFzips.ipynb` | Caitlin's file, that imports 2x CSV files containing (i) Park (ii) Neighbourhood information,<br> performing transformation (inc. dropping duplicates and deleting obsolete rows), before<br> saving 2x new CSV and finally converting the contents of both CSV files to a JSON file). |\n",
    "| Heesung | `Heesung_code_with_comments.ipynb` | Heesung's file, that imports 2x CSV files (i) Boba Shops in the Bay Area (ii) Pokemon Go<br> Spawns in the Bay Area. Tranformation of the datasets includes (i) removal of irrelevant<br> information, utilizing Geopy to return zipcodes, from latitute and longitude and merging<br> the two datasets using the zipcode as the join. |\n",
    "| Kathryn | `Google_data.ipynb` | Kathryn used Google's API to query of every hotel located within 50,000 meters from the<br> latitude and longitude corresponding to each zip code in the original dataset |"
   ]
  },
  {
   "cell_type": "markdown",
   "metadata": {},
   "source": [
    "#### **Input Folder** ([link here](https://github.com/SaltireSequence/ETL-Project/tree/master/Inputs)) ####"
   ]
  },
  {
   "cell_type": "markdown",
   "metadata": {},
   "source": [
    "Contains each team members raw dataset(s), once extraction was completed, but before transformation and loading into the destination database:\n",
    "\n",
    "| TEAM MEMBER | FILENAME | DESCRIPTION |\n",
    "| :- | :- | :- |\n",
    "| William | `restaurant_raw.csv` | contains data (inc. longitude and latitude) of 150 Bay Area restaurants.\n",
    "| Caitlin | `Neighborhoods.csv` | contains data for San Francisco parks (inc. a score for each park and<br> it's longitude and latitude)\n",
    "|  | `SFZ.csv` | contains a list of zipcodes for each neighbourhood in San Francisco.\n",
    "| Heesung | `boba.csv` | contains a data for Boba merchants in the Bay Area, which includes each location's longitude and latitude.\n",
    "|  | `pokemon-spawns.csv` | contains data for Pokemon Go spawns in the Bay Area - includes the longitude and latitude of each spawn<br> location, as well as a unique identifier for each Pokemon\n",
    "| Kathryn | **N/A** | As Kathryn queried and API, she has no input file per se."
   ]
  },
  {
   "cell_type": "markdown",
   "metadata": {},
   "source": [
    "#### **Outputs Folder**  ([link here](https://github.com/SaltireSequence/ETL-Project/tree/master/Outputs)) ####"
   ]
  },
  {
   "cell_type": "markdown",
   "metadata": {},
   "source": [
    "Containing each team member's output files, which includes JSON files (that were subsquently used to form the collections, that made the final MongoDB database) and also any output files, once transformation was completed and before conversion to JSON files:\n",
    "\n",
    "| TEAM MEMBER | FILENAME | DESCRIPTION |\n",
    "| :- | :- | :- |\n",
    "| William | `will_data.JSON` | the byproduct of William's data extraction and transformation is a JSON file, used for loading in as the<br> 'Restaurants' collection of the final MongoDB database.\n",
    "| Caitlin | `SF_Park_Scores.csv` | the output files of both of Caitlin's datasets, once transformation had been completed on her original input<br> files, which were `SF_Park_Scores.csv` & `SFZ.csv`.\n",
    "|  | `sf_parks.json` | the output files of both of Caitlin's datasets, once transformation had been completed on her original input<br> files, which were `SF_Park_Scores.csv` & `SFZ.csv`.\n",
    "| Heesung | `pika_boba.csv` | contains a CSV of both datasets, once transformation had completed and before conversion into a JSON file.\n",
    "|  | `boba_pika.json` | contains the boba dataset, once zip codes had bee obtainined, using the longitude and latitude of each boba<br> shop, with help from the `geocoders` library.\n",
    "|  | `boba_zip.csv` | contains the merged dataset data (clean_boba_pika_df) in JSON format, ready for loading to the MongoDB<br> database, as a collection.\n",
    "|  | `pika_zip.csv` | contains the Pokeman dataset, including zip codes for each spawn location.\n",
    "|  | `pika_zip.csv` | contains the Pokeman dataset, including zip codes for each spawn location.\n",
    "| Kathryn | `TBC` | **CONFIRM WITH KATHRYN**"
   ]
  },
  {
   "cell_type": "markdown",
   "metadata": {},
   "source": [
    "___"
   ]
  },
  {
   "cell_type": "markdown",
   "metadata": {},
   "source": [
    "### **The Process:**"
   ]
  },
  {
   "cell_type": "markdown",
   "metadata": {},
   "source": [
    "The objective of this project was to work as a team, as collaboratively as possible, to walkthrough the the ETL process with at least 2 datasets, from different sources (e.g Kaggle & API, in atleast 2 differeing formats (e.g JSON and CSV).\n",
    "\n",
    "The obvious approach would to have had individual team members tackle a different stage of the ETL process, however it was collectively agreed that this approach wouldn't necessarily have the entire team empowered with the knowledge of every step of the ETL process.\n",
    "\n",
    "Consensus was therefore reached, that each team member would go through the ETL process individually, but in parallel. **Each team member would therefore:**\n",
    "\n",
    "- **Extract** at least 1x dataset\n",
    "- Perform **transformation**, dependant on the type and state of the data, following extraction. The prerequisite being, that each team member would present their transformed data in JSON format.\n",
    "- Individually **load** their JSON-formatted transformed dataset(s) into a personal NOSQL (MongoDB) data, as a sanity check, before...\n",
    "- Submitting their JSON file (that has successfully parsed by MongoDB) to the team member's respective resources file.\n",
    "\n",
    "Once each team member had successfully extracted, transformed and 'test' loaded their datasets into MongoDB, Kathryn then took the helm of the load element of the project, by uploading each team member's dataset JSON file as individual collections in a master MongoDB database."
   ]
  },
  {
   "cell_type": "markdown",
   "metadata": {},
   "source": [
    "#### **Extraction** ####"
   ]
  },
  {
   "cell_type": "markdown",
   "metadata": {},
   "source": [
    "In total the team extracted 6 datasets, from 3 sources, in 2 formats:\n",
    "\n",
    " - **6 datasets:** stored in the [Input Folder](https://github.com/SaltireSequence/ETL-Project/tree/master/Inputs)\n",
    " - **3 sources:** we used [Kaggle](https://www.kaggle.com) and the [Google API](https://maps.googleapis.com/)\n",
    " - **2 formats:** William, Heesung and Cailin's data all derived in CSV format, whilst Kathryn's API call to Google, returned a JSON file.\n",
    " \n",
    "The team describes individually, their decision behind the extract of each respective data:\n",
    "\n",
    " - **Heesung Extraction Notes:** In this project, I would like to find out the correlation between the boba shop rating and the number of spawn of Pokemon Go Pikachu in SF Bay Area. The dataset in the two files included the following information:\n",
    " \n",
    "     - **Boba shop in bay area:**\n",
    "       - id: Unique id of the boba shop\n",
    "       - name : Name of the boba shop\n",
    "       - rating : Yelp rating of the boba shop, on a scale of 1-5\n",
    "       - address : Address of the boba shop\n",
    "       - ity : City the boba shop is in\n",
    "       - lat : Latitude of the boba shop\n",
    "       - long : Longitude of the boba shop\n",
    "    \n",
    "     - **SF Bay Area Pokemon Go Spawns:**\n",
    "        - id: Unique id of pokemon\n",
    "        - number:unique number of pokemon character\n",
    "        - lat: Latitude of the despawn location\n",
    "        - long: Longitude of the despawn location\n",
    "        - encounter_ms: Time encountered with Pokemon\n",
    "        - diappear_ms:The time when Pokemon was disappered\n",
    "\n",
    "\n",
    " - **William Extraction Notes:** as a budding restaurant goer (and as someone who is relatively new the the Bay Area) I wanted to find data that represented restaurant data in the Bay Area, that might make for interesting analysis. I found a dataset on Kaggle that looked like it had been neglected. It is information for 150 restaurants, including address, cuisine type, price point and importantly the longitude and latitude of the restaurant. My extraction only involved downloading my dataset from Kaggle, before beginning transformation.\n",
    " \n",
    " - **Caitlin Extraction Notes:** bla, bla, bla, bla\n",
    " \n",
    " - **Kathryn Extraction Notes:** for my data, I chose to locate all of the hotels that are located in each of the zip codes in the bay area. I used the Google Places api to locate hotels within the approximately 30 miles from the latitude and longitude coordinates corresponding to each zip code. This generated about 20 hotels per zip code, of which there were 50 in the dataset.\n"
   ]
  },
  {
   "cell_type": "markdown",
   "metadata": {},
   "source": [
    "#### **Transformation** ####"
   ]
  },
  {
   "cell_type": "markdown",
   "metadata": {},
   "source": [
    "Whilst all team member's extracted there data from reputable sources, all data required a degree of data cleanup and analysis. The following transformations took place:\n",
    "\n",
    " - **Heesung Transformation Notes:** Once I had loaded my files, as CVS into DataFrames, I performed a series of tasks that included:\n",
    " \n",
    "  **(i)** Removing irrelevant to the project<br>\n",
    "  **(ii)** Using Geopy to find zip codes, using longitude and latitude<br>\n",
    "  **(iii)** Merging both datasets on the zip codes column<br>\n",
    "  **(iv)** Removing rows containing missing information<br>\n",
    "  **(v)** Saving the cleansed DataSets, firstly as CSV and secondly as a JSON file\n",
    "\n",
    "  | TRANSFORMATION | CODE | DESCRIPTION |\n",
    "  | :- | :- | :- |\n",
    "  | **DataType conversion** | `.astype(int) ` | Checking data volume for each Pokemon\n",
    "  | **Filtering** | `.loc[pokemon_df[\"name\"]==\"Pikachu\",:]` | Filtering on a specific   character\n",
    "  | **Index reset** | `.reset_index(drop=True)` | Resetting the index on a DataFrame\n",
    "  | **Geopy query** | `geopy.Nominatim` | Used to query the zip codes of corresponding longitute<br> and latitude\n",
    "  | **Counting** | `.value_counts()` | Counting instances of certain Pokemon characters\n",
    "  | **Purging** | `['Unnamed: 0']` | Deleting unnecessary columns\n",
    "  | **JSON conversion** | `to_json` | Converting DataFrame(s) / CSV to JSON"
   ]
  },
  {
   "cell_type": "markdown",
   "metadata": {},
   "source": [
    "- **William's Transformation Notes:** the Hotel information dataset that I extracted from Kaggle looked to be a badly converted JSON to CSV file and contained alot of white space, obsolete characters and values from one column spilling over into a complete seperate columns cells. My objective from my transformation was to simply bring order and consistency to my data. I struggled initially to write the code to repetitively remove white space from different columns, however following alot of trial-and-error, I was able to write a simple for loop that iteracted through my DataFrame and (by referencing a list containing correct column headers) and replace the white space, with correct vaules. The other challenging element of my transformation, was using Arcgis to look up zipcodes for each restaurant, using that restaurants respectuve latitude and longitude. \n",
    " \n",
    "  | TRANSFORMATION | CODE | DESCRIPTION |\n",
    "  | :- | :- | :- |\n",
    "  | **CSV to DataFrame** | `pd.DataFrame` | Converting my read CSV file into a DataFrame in preparation for Transformation\n",
    "  | **String replacement** | `str.replace` | Replacing white space\n",
    "  | **Dropping columns / cells** | `df.drop` | Removing obsolete columns and or cells.\n",
    "  | **Merging DataFrames** | `df.merge ` | Merging dataframes together, prior to JSON conversion\n",
    "  | **JSON conversion** | `to_json` | Converting DataFrame(s) / CSV to JSON"
   ]
  },
  {
   "cell_type": "markdown",
   "metadata": {},
   "source": [
    "- **Caitlin's Transformation Notes:** bla, bla, bla\n",
    "\n",
    "  | TRANSFORMATION | CODE | DESCRIPTION |\n",
    "  | :- | :- | :- |\n",
    "  | **Drop duplicates** | `.drop_duplicates()` | Dropping duplicate values\n",
    "  | **Drop NaaN** | `dropna()` | Dropping NaaN values\n",
    "  | **Renaming Columns** | `[‘new_column_name]` | Renaming columns for consistency\n",
    "  | **DataType conversion** | `.astype(int) ` | Converting DataType, prior to JSON conversion\n",
    "  | **JSON conversion** | `to_json` | Converting DataFrame(s) / CSV to JSON"
   ]
  },
  {
   "cell_type": "markdown",
   "metadata": {},
   "source": [
    "#### **Loading** ####"
   ]
  },
  {
   "cell_type": "markdown",
   "metadata": {},
   "source": [
    "**Individual Loading:** Once each team member had completed extraction and transformation on their dataset(s), we individually created local NoSQL (MongoDB) databases and uploaded our respective JSON files, to ensure they parsed without issue, prior to submitting them to the Kathryn, who then took over..."
   ]
  },
  {
   "cell_type": "markdown",
   "metadata": {},
   "source": [
    "**Loading all datasets:** Kathryn volunteered to take all our JSON files are build the team database. Here are the steps she took:\n",
    "\n",
    "**Kathryn Team Loading Steps:** I looped through a pandas dataframe of zip codes in San Francisco, making an api call to google places for all hotels within 50,000 feet of each zip code’s latitude and longitude equivalent:<br>\n",
    "- Each of these records was added to MongoDB database called locations_mdb under a collection called “hotels”. Now all hotels can be viewed for each latitude and longitude pair.<br>\n",
    "- Heesung’s data I imported to the database under a collection called ‘boba’<br>\n",
    "- The remaining two dataframes I converted to JSON format from a csv by:<br> \n",
    "    - Converting each to a dictionary in “index” format<br>\n",
    "    - Converting each dictionary to a JSON string<br>\n",
    "    - Loading each json string into JSON format<br>\n",
    "    - Inserting the data into its the MongoDB database as its own collection (resulting in “parks” and “restaurants” collections)"
   ]
  },
  {
   "cell_type": "code",
   "execution_count": null,
   "metadata": {},
   "outputs": [],
   "source": []
  }
 ],
 "metadata": {
  "kernelspec": {
   "display_name": "Python 3",
   "language": "python",
   "name": "python3"
  },
  "language_info": {
   "codemirror_mode": {
    "name": "ipython",
    "version": 3
   },
   "file_extension": ".py",
   "mimetype": "text/x-python",
   "name": "python",
   "nbconvert_exporter": "python",
   "pygments_lexer": "ipython3",
   "version": "3.7.7"
  }
 },
 "nbformat": 4,
 "nbformat_minor": 4
}
